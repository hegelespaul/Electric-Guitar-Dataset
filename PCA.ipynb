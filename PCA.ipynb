{
 "cells": [
  {
   "cell_type": "code",
   "execution_count": 13,
   "metadata": {},
   "outputs": [
    {
     "name": "stdout",
     "output_type": "stream",
     "text": [
      "(138,)\n",
      "The shape of X is\n",
      "(138, 48000)\n"
     ]
    }
   ],
   "source": [
    "#########LOAD DATA\n",
    "\n",
    "\n",
    "import numpy as np\n",
    "import librosa\n",
    "import librosa.display\n",
    "\n",
    "\n",
    "pathAudio = \"di/\"\n",
    "files = librosa.util.find_files(pathAudio, ext=['wav']) \n",
    "files = np.asarray(files)\n",
    "\n",
    "print(files.shape)\n",
    "\n",
    "X = []\n",
    "fs8k = 8000\n",
    "for file in files:\n",
    "  x,fs = librosa.load(file, sr=8000 ,mono = True) \n",
    "\n",
    "  ##Comparing each audio file\n",
    "  X.append(x)\n",
    "  #X.append(librosa.amplitude_to_db(np.abs(np.fft.fft(x,8000))))\n",
    "  #X.append(librosa.piptrack(y=x, sr=fs))\n",
    "  #X.append(librosa.yin(x,fmin=librosa.note_to_hz('C2'),fmax=librosa.note_to_hz('C7')))\n",
    "  \n",
    "  #f0, voiced_flag, voiced_probs = librosa.pyin(x,fmin=librosa.note_to_hz('C2'),fmax=librosa.note_to_hz('C7'))\n",
    "  #times = librosa.times_like(f0)\n",
    "  #D = librosa.amplitude_to_db(np.abs(librosa.stft(x)), ref=np.max)\n",
    "  #fig, ax = plt.subplots()\n",
    "  #img = librosa.display.specshow(D, x_axis='time', y_axis='log', ax=ax)\n",
    "  #ax.set(title='pYIN fundamental frequency estimation')\n",
    "  #fig.colorbar(img, ax=ax, format=\"%+2.f dB\")\n",
    "  #ax.plot(f0, label='f0', color='cyan', linewidth=3)\n",
    "  #ax.legend(loc='upper right')\n",
    "\n",
    "X = np.array(X)\n",
    "\n",
    "print(\"The shape of X is\")\n",
    "print(X.shape)\n",
    "\n",
    "\n"
   ]
  },
  {
   "cell_type": "code",
   "execution_count": 14,
   "metadata": {},
   "outputs": [
    {
     "name": "stdout",
     "output_type": "stream",
     "text": [
      "(48000,)\n",
      "(48000,)\n",
      "[[ 0.08964034  0.01018075 -0.14154397 ... -0.05091928 -0.04700075\n",
      "  -0.03696861]\n",
      " [ 1.1860982   0.44557464  0.07420228 ... -0.05155744 -0.07262443\n",
      "  -0.08201873]\n",
      " [ 0.1468076   0.02089984 -0.00272238 ... -0.01692442 -0.01047562\n",
      "  -0.01134381]\n",
      " ...\n",
      " [ 0.13715868  0.09379453  0.01949511 ... -0.04839492 -0.12157493\n",
      "  -0.21879652]\n",
      " [ 0.37645912  0.20895073  0.04401108 ... -0.34898096 -0.41092634\n",
      "  -0.48976386]\n",
      " [ 0.6750758   0.3301976   0.05885858 ... -0.22101575 -0.28178808\n",
      "  -0.38375285]]\n"
     ]
    }
   ],
   "source": [
    "#########STANDARIZATION\n",
    "\n",
    "import os\n",
    "\n",
    "mu = np.mean(X, axis=0)\n",
    "print(mu.shape)\n",
    "std = np.max(X, axis=0)\n",
    "print(std.shape)\n",
    "Xmus = (X-mu)/std\n",
    "print(Xmus)\n"
   ]
  },
  {
   "cell_type": "code",
   "execution_count": 15,
   "metadata": {},
   "outputs": [
    {
     "data": {
      "image/png": "[encoded data removed]",
      "text/plain": [
       "<Figure size 432x288 with 1 Axes>"
      ]
     },
     "metadata": {
      "needs_background": "light"
     },
     "output_type": "display_data"
    }
   ],
   "source": [
    "############PCA\n",
    "import matplotlib.pyplot as plt\n",
    "from sklearn.decomposition import PCA\n",
    "\n",
    "\n",
    "pca = PCA(n_components=6)\n",
    "\n",
    "X_PCA = pca.fit_transform(Xmus)\n",
    "\n",
    "\n",
    "plt.scatter(X_PCA[:23, 0],X_PCA[:23, 1], label='1st')\n",
    "plt.scatter(X_PCA[24:48, 0],X_PCA[24:48, 1], label='2nd')\n",
    "plt.scatter(X_PCA[49:72, 0],X_PCA[49:72, 1], label='3rd')\n",
    "plt.scatter(X_PCA[73:98, 0],X_PCA[73:98, 1], label='4th')\n",
    "plt.scatter(X_PCA[99:123, 0],X_PCA[99:123, 1], label='5th')\n",
    "plt.scatter(X_PCA[124:137, 0],X_PCA[124:137,1], label='6th')\n",
    "\n",
    "plt.legend()\n",
    "\n",
    "plt.xlabel('PCA 1')\n",
    "plt.ylabel('PCA 2')\n",
    "plt.show()\n"
   ]
  }
 ],
 "metadata": {
  "interpreter": {
   "hash": "b760614c986f2cc86ced47e2ef65c2ba05d099c51b3adc48a98f6ced74568e93"
  },
  "kernelspec": {
   "display_name": "Python 3.10.4 64-bit",
   "language": "python",
   "name": "python3"
  },
  "language_info": {
   "codemirror_mode": {
    "name": "ipython",
    "version": 3
   },
   "file_extension": ".py",
   "mimetype": "text/x-python",
   "name": "python",
   "nbconvert_exporter": "python",
   "pygments_lexer": "ipython3",
   "version": "3.10.4"
  },
  "orig_nbformat": 4
 },
 "nbformat": 4,
 "nbformat_minor": 2
}
