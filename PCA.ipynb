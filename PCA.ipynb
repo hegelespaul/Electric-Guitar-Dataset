{
 "cells": [
  {
   "cell_type": "code",
   "execution_count": 10,
   "metadata": {},
   "outputs": [
    {
     "name": "stdout",
     "output_type": "stream",
     "text": [
      "(138,)\n",
      "The shape of X is\n",
      "(138, 94)\n"
     ]
    }
   ],
   "source": [
    "#########LOAD DATA\n",
    "\n",
    "\n",
    "import numpy as np\n",
    "import librosa\n",
    "import librosa.display\n",
    "\n",
    "\n",
    "pathAudio = \"di/\"\n",
    "files = librosa.util.find_files(pathAudio, ext=['wav']) \n",
    "files = np.asarray(files)\n",
    "\n",
    "print(files.shape)\n",
    "\n",
    "X = []\n",
    "fs8k = 8000\n",
    "for file in files:\n",
    "  x,fs = librosa.load(file, sr=8000 ,mono = True) \n",
    "\n",
    "  #X.append(librosa.amplitude_to_db(np.abs(np.fft.fft(x,8000))))\n",
    "  X.append(librosa.yin(x,fmin=librosa.note_to_hz('C2'),fmax=librosa.note_to_hz('C7')))\n",
    "  \n",
    "  #f0, voiced_flag, voiced_probs = librosa.pyin(x,fmin=librosa.note_to_hz('C2'),fmax=librosa.note_to_hz('C7'))\n",
    "  #times = librosa.times_like(f0)\n",
    "  #D = librosa.amplitude_to_db(np.abs(librosa.stft(x)), ref=np.max)\n",
    "  #fig, ax = plt.subplots()\n",
    "  #img = librosa.display.specshow(D, x_axis='time', y_axis='log', ax=ax)\n",
    "  #ax.set(title='pYIN fundamental frequency estimation')\n",
    "  #fig.colorbar(img, ax=ax, format=\"%+2.f dB\")\n",
    "  #ax.plot(f0, label='f0', color='cyan', linewidth=3)\n",
    "  #ax.legend(loc='upper right')\n",
    "\n",
    "X = np.array(X)\n",
    "\n",
    "print(\"The shape of X is\")\n",
    "print(X.shape)\n",
    "\n",
    "\n"
   ]
  },
  {
   "cell_type": "code",
   "execution_count": 13,
   "metadata": {},
   "outputs": [
    {
     "name": "stdout",
     "output_type": "stream",
     "text": [
      "(94,)\n",
      "(94,)\n",
      "[[ 3.02828963e-01 -2.50569234e-02 -2.46909822e-02 ...  1.92764167e-01\n",
      "   2.02191931e-01  1.25095439e-01]\n",
      " [ 1.30048826e-01 -9.05018467e-05  1.35250226e-04 ...  2.17778208e-01\n",
      "   2.27050729e-01  1.49744274e-01]\n",
      " [-1.72671303e-01  2.96553740e-01  2.96655223e-01 ... -1.39703419e-01\n",
      "  -1.30154074e-01 -2.07690709e-01]\n",
      " ...\n",
      " [-5.57243994e-02 -2.83681354e-01 -2.83519684e-01 ... -6.71438498e-02\n",
      "  -5.75596040e-02 -1.35058463e-01]\n",
      " [-4.80541176e-02 -2.74697924e-01 -2.74480709e-01 ... -5.78181729e-02\n",
      "  -4.81620122e-02 -1.25733095e-01]\n",
      " [-1.68330585e-01 -2.64563888e-01 -2.64569605e-01 ... -4.77402885e-02\n",
      "  -3.81951540e-02 -1.15745183e-01]]\n"
     ]
    }
   ],
   "source": [
    "#########STANDARIZATION\n",
    "\n",
    "import os\n",
    "\n",
    "mu = np.mean(X, axis=0)\n",
    "print(mu.shape)\n",
    "std = np.max(X, axis=0)\n",
    "print(std.shape)\n",
    "Xmus = (X-mu)/std\n",
    "print(Xmus)\n"
   ]
  },
  {
   "cell_type": "code",
   "execution_count": 14,
   "metadata": {},
   "outputs": [
    {
     "data": {
      "image/png": "[encoded data removed]",
      "text/plain": [
       "<Figure size 432x288 with 1 Axes>"
      ]
     },
     "metadata": {
      "needs_background": "light"
     },
     "output_type": "display_data"
    }
   ],
   "source": [
    "############PCA\n",
    "import matplotlib.pyplot as plt\n",
    "from sklearn.decomposition import PCA\n",
    "\n",
    "\n",
    "pca = PCA(n_components=6)\n",
    "\n",
    "X_PCA = pca.fit_transform(Xmus)\n",
    "\n",
    "\n",
    "plt.scatter(X_PCA[:24, 0],X_PCA[:24, 1], label='1st')\n",
    "plt.scatter(X_PCA[25:49, 0],X_PCA[25:49, 1], label='2nd')\n",
    "plt.scatter(X_PCA[50:73, 0],X_PCA[50:73, 1], label='3rd')\n",
    "plt.scatter(X_PCA[74:99, 0],X_PCA[74:99, 1], label='4th')\n",
    "plt.scatter(X_PCA[100:124, 0],X_PCA[100:124, 1], label='5th')\n",
    "plt.scatter(X_PCA[125:138, 0],X_PCA[125:138,1], label='6th')\n",
    "\n",
    "plt.legend()\n",
    "\n",
    "plt.xlabel('PCA 1')\n",
    "plt.ylabel('PCA 2')\n",
    "plt.show()\n"
   ]
  }
 ],
 "metadata": {
  "interpreter": {
   "hash": "b760614c986f2cc86ced47e2ef65c2ba05d099c51b3adc48a98f6ced74568e93"
  },
  "kernelspec": {
   "display_name": "Python 3.10.4 64-bit",
   "language": "python",
   "name": "python3"
  },
  "language_info": {
   "codemirror_mode": {
    "name": "ipython",
    "version": 3
   },
   "file_extension": ".py",
   "mimetype": "text/x-python",
   "name": "python",
   "nbconvert_exporter": "python",
   "pygments_lexer": "ipython3",
   "version": "3.10.4"
  },
  "orig_nbformat": 4
 },
 "nbformat": 4,
 "nbformat_minor": 2
}
